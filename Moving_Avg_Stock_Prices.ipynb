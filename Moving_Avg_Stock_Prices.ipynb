{
  "nbformat": 4,
  "nbformat_minor": 0,
  "metadata": {
    "colab": {
      "name": "Moving_Avg_Stock_Prices.ipynb",
      "provenance": []
    },
    "kernelspec": {
      "name": "python3",
      "display_name": "Python 3"
    }
  },
  "cells": [
    {
      "cell_type": "code",
      "metadata": {
        "id": "xpZovFrlCQK5",
        "colab_type": "code",
        "colab": {}
      },
      "source": [
        "import numpy as np # linear algebra\n",
        "import pandas as pd # data processing, CSV file I/O (e.g. pd.read_csv)\n",
        "import json\n",
        "import matplotlib\n",
        "import matplotlib.pyplot as plt\n",
        "from keras.metrics import mean_absolute_error\n",
        "from keras.metrics import mean_absolute_percentage_error\n",
        "from keras.metrics import mean_squared_error\n",
        "\n",
        "\n",
        "# Libraries for displying the data. \n",
        "from IPython.core.display import HTML \n",
        "from ipywidgets import interact\n",
        "from IPython.display import display\n",
        "import seaborn as sns\n",
        "%matplotlib inline"
      ],
      "execution_count": 0,
      "outputs": []
    },
    {
      "cell_type": "code",
      "metadata": {
        "id": "Ftle4fNYCyyz",
        "colab_type": "code",
        "colab": {}
      },
      "source": [
        "from pydrive.auth import GoogleAuth\n",
        "from pydrive.drive import GoogleDrive\n",
        "from google.colab import auth\n",
        "from oauth2client.client import GoogleCredentials\n",
        "auth.authenticate_user()\n",
        "gauth = GoogleAuth()\n",
        "gauth.credentials = GoogleCredentials.get_application_default()\n",
        "drive = GoogleDrive(gauth)"
      ],
      "execution_count": 0,
      "outputs": []
    },
    {
      "cell_type": "code",
      "metadata": {
        "id": "5j4NSo7CC10v",
        "colab_type": "code",
        "colab": {}
      },
      "source": [
        "#Dataset\n",
        "downloaded = drive.CreateFile({'id':\"12f9gd7u5hGDwWEZgOd-O9iMkM6lE9vF-\"})   # replace the id with id of file you want to access\n",
        "downloaded.GetContentFile('stock_prices_sample.csv')        # replace the file name with your file\n",
        "#Dataset\n",
        "downloaded = drive.CreateFile({'id':\"1jJapq3dnv8iyMHtxJSp-hRJl8E1rCrUu\"})   # replace the id with id of file you want to access\n",
        "downloaded.GetContentFile('data.csv')        # replace the file name with your file"
      ],
      "execution_count": 0,
      "outputs": []
    },
    {
      "cell_type": "code",
      "metadata": {
        "id": "OtJJ2-qMDA0Z",
        "colab_type": "code",
        "colab": {}
      },
      "source": [
        "stock_prices = pd.read_csv('stock_prices_sample.csv')"
      ],
      "execution_count": 0,
      "outputs": []
    },
    {
      "cell_type": "code",
      "metadata": {
        "id": "1cUpNE5RDFbb",
        "colab_type": "code",
        "colab": {}
      },
      "source": [
        "stock_prices['DATE'] = pd.to_datetime(stock_prices[\"DATE\"])\n",
        "stock_prices['date'] = stock_prices['DATE']\n",
        "stock_prices = stock_prices.sort_values(by=\"DATE\")\n",
        "stock_prices.set_index(\"DATE\", inplace = True) \n",
        "stock_prices['Year']=stock_prices.index.year\n",
        "stock_prices = stock_prices[stock_prices.Year != 2013]"
      ],
      "execution_count": 0,
      "outputs": []
    },
    {
      "cell_type": "code",
      "metadata": {
        "id": "KJtcihw-DIsL",
        "colab_type": "code",
        "outputId": "deeb6297-cae9-4656-a6ad-e808bb0c2e0b",
        "colab": {
          "base_uri": "https://localhost:8080/",
          "height": 283
        }
      },
      "source": [
        "sns.lineplot(data=stock_prices['OPEN'], label=\"OPEN\") "
      ],
      "execution_count": 0,
      "outputs": [
        {
          "output_type": "execute_result",
          "data": {
            "text/plain": [
              "<matplotlib.axes._subplots.AxesSubplot at 0x7f1ac5e99ef0>"
            ]
          },
          "metadata": {
            "tags": []
          },
          "execution_count": 24
        },
        {
          "output_type": "display_data",
          "data": {
            "image/png": "[encoded data removed]",
            "text/plain": [
              "<Figure size 432x288 with 1 Axes>"
            ]
          },
          "metadata": {
            "tags": [],
            "needs_background": "light"
          }
        }
      ]
    },
    {
      "cell_type": "code",
      "metadata": {
        "id": "rHOfrrACMlqe",
        "colab_type": "code",
        "colab": {}
      },
      "source": [
        "def lag_features(df , N , col , col_index):\n",
        "  \"adds lag features of the given columnb for previous N days\"\n",
        "  series = df[col]\n",
        "  for i in range(N):\n",
        "    shifted_rows = np.zeros(len(df))\n",
        "    shifted_rows[:] = np.nan\n",
        "    array_index = i+1\n",
        "    for j in range(len(df)-(i+1)):\n",
        "      shifted_rows[array_index] = df.iloc[j,col_index]\n",
        "      array_index = array_index + 1 \n",
        "      df[col+'_lag_'+str(i+1)] = shifted_rows\n",
        "  return df"
      ],
      "execution_count": 0,
      "outputs": []
    },
    {
      "cell_type": "code",
      "metadata": {
        "id": "-mDGZdrCmEoe",
        "colab_type": "code",
        "outputId": "d102bd74-d427-4d17-d6fd-cdc722426cda",
        "colab": {
          "base_uri": "https://localhost:8080/",
          "height": 90
        }
      },
      "source": [
        "stock_prices.columns"
      ],
      "execution_count": 0,
      "outputs": [
        {
          "output_type": "execute_result",
          "data": {
            "text/plain": [
              "Index(['TICKER', 'FIGI', 'TYPE', 'FREQUENCY', 'OPEN', 'HIGH', 'LOW', 'CLOSE',\n",
              "       'VOLUME', 'ADJ_OPEN', 'ADJ_HIGH', 'ADJ_LOW', 'ADJ_CLOSE', 'ADJ_VOLUME',\n",
              "       'ADJ_FACTOR', 'EX_DIVIDEND', 'SPLIT_RATIO', 'date', 'Year'],\n",
              "      dtype='object')"
            ]
          },
          "metadata": {
            "tags": []
          },
          "execution_count": 26
        }
      ]
    },
    {
      "cell_type": "code",
      "metadata": {
        "id": "LThdvvdNn_SC",
        "colab_type": "code",
        "colab": {}
      },
      "source": [
        "stock_prices = stock_prices[['OPEN', 'HIGH', 'LOW', 'CLOSE','VOLUME' , 'date' , 'Year']]"
      ],
      "execution_count": 0,
      "outputs": []
    },
    {
      "cell_type": "code",
      "metadata": {
        "id": "HeR-mJ1foXA6",
        "colab_type": "code",
        "colab": {}
      },
      "source": [
        "stock_prices_w_lag = lag_features(stock_prices,1,'OPEN',0)"
      ],
      "execution_count": 0,
      "outputs": []
    },
    {
      "cell_type": "code",
      "metadata": {
        "id": "VR_cWnmFo2M-",
        "colab_type": "code",
        "outputId": "6ccbdc4d-89ab-4538-ad9d-0f906fb8f1e7",
        "colab": {
          "base_uri": "https://localhost:8080/",
          "height": 455
        }
      },
      "source": [
        "stock_prices_w_lag"
      ],
      "execution_count": 0,
      "outputs": [
        {
          "output_type": "execute_result",
          "data": {
            "text/html": [
              "<div>\n",
              "<style scoped>\n",
              "    .dataframe tbody tr th:only-of-type {\n",
              "        vertical-align: middle;\n",
              "    }\n",
              "\n",
              "    .dataframe tbody tr th {\n",
              "        vertical-align: top;\n",
              "    }\n",
              "\n",
              "    .dataframe thead th {\n",
              "        text-align: right;\n",
              "    }\n",
              "</style>\n",
              "<table border=\"1\" class=\"dataframe\">\n",
              "  <thead>\n",
              "    <tr style=\"text-align: right;\">\n",
              "      <th></th>\n",
              "      <th>OPEN</th>\n",
              "      <th>HIGH</th>\n",
              "      <th>LOW</th>\n",
              "      <th>CLOSE</th>\n",
              "      <th>VOLUME</th>\n",
              "      <th>date</th>\n",
              "      <th>Year</th>\n",
              "      <th>OPEN_lag_1</th>\n",
              "    </tr>\n",
              "    <tr>\n",
              "      <th>DATE</th>\n",
              "      <th></th>\n",
              "      <th></th>\n",
              "      <th></th>\n",
              "      <th></th>\n",
              "      <th></th>\n",
              "      <th></th>\n",
              "      <th></th>\n",
              "      <th></th>\n",
              "    </tr>\n",
              "  </thead>\n",
              "  <tbody>\n",
              "    <tr>\n",
              "      <th>2014-06-23</th>\n",
              "      <td>19.05</td>\n",
              "      <td>19.0500</td>\n",
              "      <td>18.9500</td>\n",
              "      <td>18.95</td>\n",
              "      <td>34300.0</td>\n",
              "      <td>2014-06-23</td>\n",
              "      <td>2014</td>\n",
              "      <td>NaN</td>\n",
              "    </tr>\n",
              "    <tr>\n",
              "      <th>2014-06-24</th>\n",
              "      <td>18.91</td>\n",
              "      <td>18.9500</td>\n",
              "      <td>18.8300</td>\n",
              "      <td>18.83</td>\n",
              "      <td>35200.0</td>\n",
              "      <td>2014-06-24</td>\n",
              "      <td>2014</td>\n",
              "      <td>19.05</td>\n",
              "    </tr>\n",
              "    <tr>\n",
              "      <th>2014-06-25</th>\n",
              "      <td>18.66</td>\n",
              "      <td>18.7200</td>\n",
              "      <td>18.5900</td>\n",
              "      <td>18.60</td>\n",
              "      <td>171700.0</td>\n",
              "      <td>2014-06-25</td>\n",
              "      <td>2014</td>\n",
              "      <td>18.91</td>\n",
              "    </tr>\n",
              "    <tr>\n",
              "      <th>2014-06-26</th>\n",
              "      <td>18.52</td>\n",
              "      <td>18.5901</td>\n",
              "      <td>18.4200</td>\n",
              "      <td>18.53</td>\n",
              "      <td>60000.0</td>\n",
              "      <td>2014-06-26</td>\n",
              "      <td>2014</td>\n",
              "      <td>18.66</td>\n",
              "    </tr>\n",
              "    <tr>\n",
              "      <th>2014-06-27</th>\n",
              "      <td>18.63</td>\n",
              "      <td>18.6300</td>\n",
              "      <td>18.5100</td>\n",
              "      <td>18.61</td>\n",
              "      <td>28400.0</td>\n",
              "      <td>2014-06-27</td>\n",
              "      <td>2014</td>\n",
              "      <td>18.52</td>\n",
              "    </tr>\n",
              "    <tr>\n",
              "      <th>...</th>\n",
              "      <td>...</td>\n",
              "      <td>...</td>\n",
              "      <td>...</td>\n",
              "      <td>...</td>\n",
              "      <td>...</td>\n",
              "      <td>...</td>\n",
              "      <td>...</td>\n",
              "      <td>...</td>\n",
              "    </tr>\n",
              "    <tr>\n",
              "      <th>2018-05-30</th>\n",
              "      <td>18.47</td>\n",
              "      <td>18.6780</td>\n",
              "      <td>18.4700</td>\n",
              "      <td>18.65</td>\n",
              "      <td>22633.0</td>\n",
              "      <td>2018-05-30</td>\n",
              "      <td>2018</td>\n",
              "      <td>18.51</td>\n",
              "    </tr>\n",
              "    <tr>\n",
              "      <th>2018-05-31</th>\n",
              "      <td>18.52</td>\n",
              "      <td>18.5200</td>\n",
              "      <td>18.3012</td>\n",
              "      <td>18.49</td>\n",
              "      <td>22384.0</td>\n",
              "      <td>2018-05-31</td>\n",
              "      <td>2018</td>\n",
              "      <td>18.47</td>\n",
              "    </tr>\n",
              "    <tr>\n",
              "      <th>2018-06-01</th>\n",
              "      <td>18.58</td>\n",
              "      <td>18.7600</td>\n",
              "      <td>18.5800</td>\n",
              "      <td>18.74</td>\n",
              "      <td>17468.0</td>\n",
              "      <td>2018-06-01</td>\n",
              "      <td>2018</td>\n",
              "      <td>18.52</td>\n",
              "    </tr>\n",
              "    <tr>\n",
              "      <th>2018-06-04</th>\n",
              "      <td>18.86</td>\n",
              "      <td>18.8900</td>\n",
              "      <td>18.7900</td>\n",
              "      <td>18.81</td>\n",
              "      <td>39095.0</td>\n",
              "      <td>2018-06-04</td>\n",
              "      <td>2018</td>\n",
              "      <td>18.58</td>\n",
              "    </tr>\n",
              "    <tr>\n",
              "      <th>2018-06-05</th>\n",
              "      <td>18.86</td>\n",
              "      <td>18.9100</td>\n",
              "      <td>18.8700</td>\n",
              "      <td>18.87</td>\n",
              "      <td>10000.0</td>\n",
              "      <td>2018-06-05</td>\n",
              "      <td>2018</td>\n",
              "      <td>18.86</td>\n",
              "    </tr>\n",
              "  </tbody>\n",
              "</table>\n",
              "<p>996 rows × 8 columns</p>\n",
              "</div>"
            ],
            "text/plain": [
              "             OPEN     HIGH      LOW  ...       date  Year OPEN_lag_1\n",
              "DATE                                 ...                            \n",
              "2014-06-23  19.05  19.0500  18.9500  ... 2014-06-23  2014        NaN\n",
              "2014-06-24  18.91  18.9500  18.8300  ... 2014-06-24  2014      19.05\n",
              "2014-06-25  18.66  18.7200  18.5900  ... 2014-06-25  2014      18.91\n",
              "2014-06-26  18.52  18.5901  18.4200  ... 2014-06-26  2014      18.66\n",
              "2014-06-27  18.63  18.6300  18.5100  ... 2014-06-27  2014      18.52\n",
              "...           ...      ...      ...  ...        ...   ...        ...\n",
              "2018-05-30  18.47  18.6780  18.4700  ... 2018-05-30  2018      18.51\n",
              "2018-05-31  18.52  18.5200  18.3012  ... 2018-05-31  2018      18.47\n",
              "2018-06-01  18.58  18.7600  18.5800  ... 2018-06-01  2018      18.52\n",
              "2018-06-04  18.86  18.8900  18.7900  ... 2018-06-04  2018      18.58\n",
              "2018-06-05  18.86  18.9100  18.8700  ... 2018-06-05  2018      18.86\n",
              "\n",
              "[996 rows x 8 columns]"
            ]
          },
          "metadata": {
            "tags": []
          },
          "execution_count": 29
        }
      ]
    },
    {
      "cell_type": "markdown",
      "metadata": {
        "id": "P_6ppIUHpOAm",
        "colab_type": "text"
      },
      "source": [
        "**Naive Forecast** "
      ]
    },
    {
      "cell_type": "code",
      "metadata": {
        "id": "MED7Gumx-2a2",
        "colab_type": "code",
        "outputId": "52e112a6-40c0-4b5f-fb0d-3cc8a4a95d6b",
        "colab": {
          "base_uri": "https://localhost:8080/",
          "height": 72
        }
      },
      "source": [
        "#Naive forecast is OPEN_lag_1\n",
        "print(mean_squared_error(np.array(stock_prices.iloc[1:, 0]) , np.array(stock_prices.iloc[1:,-1])))\n",
        "print(mean_absolute_error(np.array(stock_prices.iloc[1:, 0]) , np.array(stock_prices.iloc[1:,-1])))\n",
        "print(mean_absolute_percentage_error(np.array(stock_prices.iloc[1:, 0]) , np.array(stock_prices.iloc[1:,-1])))"
      ],
      "execution_count": 0,
      "outputs": [
        {
          "output_type": "stream",
          "text": [
            "tf.Tensor(0.04484693, shape=(), dtype=float32)\n",
            "tf.Tensor(0.12981546, shape=(), dtype=float32)\n",
            "tf.Tensor(0.8256181, shape=(), dtype=float32)\n"
          ],
          "name": "stdout"
        }
      ]
    },
    {
      "cell_type": "markdown",
      "metadata": {
        "id": "7x83LzUGB5_1",
        "colab_type": "text"
      },
      "source": [
        "**Moving Average Forecast**"
      ]
    },
    {
      "cell_type": "code",
      "metadata": {
        "id": "yRiYLQqbAUqp",
        "colab_type": "code",
        "colab": {}
      },
      "source": [
        "def moving_avg_std(df ,col ,N ,col_index):\n",
        "  moving_mean = df[col].rolling(window = N, min_periods=1).mean() \n",
        "  moving_std = df[col].rolling(window = N, min_periods=1).std()   \n",
        "  \n",
        "  moving_mean = np.concatenate((np.array([np.nan]), np.array(moving_mean[:-1])))\n",
        "  moving_std = np.concatenate((np.array([np.nan]), np.array(moving_std[:-1])))\n",
        "    \n",
        "  df[col + '_mean'] = moving_mean"
      ],
      "execution_count": 0,
      "outputs": []
    },
    {
      "cell_type": "code",
      "metadata": {
        "id": "wVsuRoSPC6sb",
        "colab_type": "code",
        "colab": {}
      },
      "source": [
        "stock_prices_w_lag = lag_features(stock_prices,7,'OPEN',0)"
      ],
      "execution_count": 0,
      "outputs": []
    },
    {
      "cell_type": "code",
      "metadata": {
        "id": "aNt36M4fDDV3",
        "colab_type": "code",
        "colab": {}
      },
      "source": [
        "moving_avg_std(stock_prices_w_lag , 'OPEN' , 7 , 0)"
      ],
      "execution_count": 0,
      "outputs": []
    },
    {
      "cell_type": "code",
      "metadata": {
        "id": "mg-gVlzXD5TH",
        "colab_type": "code",
        "outputId": "ea09334f-fcaf-49c8-d4f4-3b085ee04c87",
        "colab": {
          "base_uri": "https://localhost:8080/",
          "height": 475
        }
      },
      "source": [
        "stock_prices_w_lag"
      ],
      "execution_count": 0,
      "outputs": [
        {
          "output_type": "execute_result",
          "data": {
            "text/html": [
              "<div>\n",
              "<style scoped>\n",
              "    .dataframe tbody tr th:only-of-type {\n",
              "        vertical-align: middle;\n",
              "    }\n",
              "\n",
              "    .dataframe tbody tr th {\n",
              "        vertical-align: top;\n",
              "    }\n",
              "\n",
              "    .dataframe thead th {\n",
              "        text-align: right;\n",
              "    }\n",
              "</style>\n",
              "<table border=\"1\" class=\"dataframe\">\n",
              "  <thead>\n",
              "    <tr style=\"text-align: right;\">\n",
              "      <th></th>\n",
              "      <th>OPEN</th>\n",
              "      <th>HIGH</th>\n",
              "      <th>LOW</th>\n",
              "      <th>CLOSE</th>\n",
              "      <th>VOLUME</th>\n",
              "      <th>date</th>\n",
              "      <th>Year</th>\n",
              "      <th>OPEN_lag_1</th>\n",
              "      <th>OPEN_lag_2</th>\n",
              "      <th>OPEN_lag_3</th>\n",
              "      <th>OPEN_lag_4</th>\n",
              "      <th>OPEN_lag_5</th>\n",
              "      <th>OPEN_lag_6</th>\n",
              "      <th>OPEN_lag_7</th>\n",
              "      <th>OPEN_mean</th>\n",
              "    </tr>\n",
              "    <tr>\n",
              "      <th>DATE</th>\n",
              "      <th></th>\n",
              "      <th></th>\n",
              "      <th></th>\n",
              "      <th></th>\n",
              "      <th></th>\n",
              "      <th></th>\n",
              "      <th></th>\n",
              "      <th></th>\n",
              "      <th></th>\n",
              "      <th></th>\n",
              "      <th></th>\n",
              "      <th></th>\n",
              "      <th></th>\n",
              "      <th></th>\n",
              "      <th></th>\n",
              "    </tr>\n",
              "  </thead>\n",
              "  <tbody>\n",
              "    <tr>\n",
              "      <th>2014-06-23</th>\n",
              "      <td>19.05</td>\n",
              "      <td>19.0500</td>\n",
              "      <td>18.9500</td>\n",
              "      <td>18.95</td>\n",
              "      <td>34300.0</td>\n",
              "      <td>2014-06-23</td>\n",
              "      <td>2014</td>\n",
              "      <td>NaN</td>\n",
              "      <td>NaN</td>\n",
              "      <td>NaN</td>\n",
              "      <td>NaN</td>\n",
              "      <td>NaN</td>\n",
              "      <td>NaN</td>\n",
              "      <td>NaN</td>\n",
              "      <td>NaN</td>\n",
              "    </tr>\n",
              "    <tr>\n",
              "      <th>2014-06-24</th>\n",
              "      <td>18.91</td>\n",
              "      <td>18.9500</td>\n",
              "      <td>18.8300</td>\n",
              "      <td>18.83</td>\n",
              "      <td>35200.0</td>\n",
              "      <td>2014-06-24</td>\n",
              "      <td>2014</td>\n",
              "      <td>19.05</td>\n",
              "      <td>NaN</td>\n",
              "      <td>NaN</td>\n",
              "      <td>NaN</td>\n",
              "      <td>NaN</td>\n",
              "      <td>NaN</td>\n",
              "      <td>NaN</td>\n",
              "      <td>19.050000</td>\n",
              "    </tr>\n",
              "    <tr>\n",
              "      <th>2014-06-25</th>\n",
              "      <td>18.66</td>\n",
              "      <td>18.7200</td>\n",
              "      <td>18.5900</td>\n",
              "      <td>18.60</td>\n",
              "      <td>171700.0</td>\n",
              "      <td>2014-06-25</td>\n",
              "      <td>2014</td>\n",
              "      <td>18.91</td>\n",
              "      <td>19.05</td>\n",
              "      <td>NaN</td>\n",
              "      <td>NaN</td>\n",
              "      <td>NaN</td>\n",
              "      <td>NaN</td>\n",
              "      <td>NaN</td>\n",
              "      <td>18.980000</td>\n",
              "    </tr>\n",
              "    <tr>\n",
              "      <th>2014-06-26</th>\n",
              "      <td>18.52</td>\n",
              "      <td>18.5901</td>\n",
              "      <td>18.4200</td>\n",
              "      <td>18.53</td>\n",
              "      <td>60000.0</td>\n",
              "      <td>2014-06-26</td>\n",
              "      <td>2014</td>\n",
              "      <td>18.66</td>\n",
              "      <td>18.91</td>\n",
              "      <td>19.05</td>\n",
              "      <td>NaN</td>\n",
              "      <td>NaN</td>\n",
              "      <td>NaN</td>\n",
              "      <td>NaN</td>\n",
              "      <td>18.873333</td>\n",
              "    </tr>\n",
              "    <tr>\n",
              "      <th>2014-06-27</th>\n",
              "      <td>18.63</td>\n",
              "      <td>18.6300</td>\n",
              "      <td>18.5100</td>\n",
              "      <td>18.61</td>\n",
              "      <td>28400.0</td>\n",
              "      <td>2014-06-27</td>\n",
              "      <td>2014</td>\n",
              "      <td>18.52</td>\n",
              "      <td>18.66</td>\n",
              "      <td>18.91</td>\n",
              "      <td>19.05</td>\n",
              "      <td>NaN</td>\n",
              "      <td>NaN</td>\n",
              "      <td>NaN</td>\n",
              "      <td>18.785000</td>\n",
              "    </tr>\n",
              "    <tr>\n",
              "      <th>...</th>\n",
              "      <td>...</td>\n",
              "      <td>...</td>\n",
              "      <td>...</td>\n",
              "      <td>...</td>\n",
              "      <td>...</td>\n",
              "      <td>...</td>\n",
              "      <td>...</td>\n",
              "      <td>...</td>\n",
              "      <td>...</td>\n",
              "      <td>...</td>\n",
              "      <td>...</td>\n",
              "      <td>...</td>\n",
              "      <td>...</td>\n",
              "      <td>...</td>\n",
              "      <td>...</td>\n",
              "    </tr>\n",
              "    <tr>\n",
              "      <th>2018-05-30</th>\n",
              "      <td>18.47</td>\n",
              "      <td>18.6780</td>\n",
              "      <td>18.4700</td>\n",
              "      <td>18.65</td>\n",
              "      <td>22633.0</td>\n",
              "      <td>2018-05-30</td>\n",
              "      <td>2018</td>\n",
              "      <td>18.51</td>\n",
              "      <td>18.76</td>\n",
              "      <td>18.78</td>\n",
              "      <td>18.83</td>\n",
              "      <td>19.26</td>\n",
              "      <td>19.31</td>\n",
              "      <td>19.14</td>\n",
              "      <td>18.941429</td>\n",
              "    </tr>\n",
              "    <tr>\n",
              "      <th>2018-05-31</th>\n",
              "      <td>18.52</td>\n",
              "      <td>18.5200</td>\n",
              "      <td>18.3012</td>\n",
              "      <td>18.49</td>\n",
              "      <td>22384.0</td>\n",
              "      <td>2018-05-31</td>\n",
              "      <td>2018</td>\n",
              "      <td>18.47</td>\n",
              "      <td>18.51</td>\n",
              "      <td>18.76</td>\n",
              "      <td>18.78</td>\n",
              "      <td>18.83</td>\n",
              "      <td>19.26</td>\n",
              "      <td>19.31</td>\n",
              "      <td>18.845714</td>\n",
              "    </tr>\n",
              "    <tr>\n",
              "      <th>2018-06-01</th>\n",
              "      <td>18.58</td>\n",
              "      <td>18.7600</td>\n",
              "      <td>18.5800</td>\n",
              "      <td>18.74</td>\n",
              "      <td>17468.0</td>\n",
              "      <td>2018-06-01</td>\n",
              "      <td>2018</td>\n",
              "      <td>18.52</td>\n",
              "      <td>18.47</td>\n",
              "      <td>18.51</td>\n",
              "      <td>18.76</td>\n",
              "      <td>18.78</td>\n",
              "      <td>18.83</td>\n",
              "      <td>19.26</td>\n",
              "      <td>18.732857</td>\n",
              "    </tr>\n",
              "    <tr>\n",
              "      <th>2018-06-04</th>\n",
              "      <td>18.86</td>\n",
              "      <td>18.8900</td>\n",
              "      <td>18.7900</td>\n",
              "      <td>18.81</td>\n",
              "      <td>39095.0</td>\n",
              "      <td>2018-06-04</td>\n",
              "      <td>2018</td>\n",
              "      <td>18.58</td>\n",
              "      <td>18.52</td>\n",
              "      <td>18.47</td>\n",
              "      <td>18.51</td>\n",
              "      <td>18.76</td>\n",
              "      <td>18.78</td>\n",
              "      <td>18.83</td>\n",
              "      <td>18.635714</td>\n",
              "    </tr>\n",
              "    <tr>\n",
              "      <th>2018-06-05</th>\n",
              "      <td>18.86</td>\n",
              "      <td>18.9100</td>\n",
              "      <td>18.8700</td>\n",
              "      <td>18.87</td>\n",
              "      <td>10000.0</td>\n",
              "      <td>2018-06-05</td>\n",
              "      <td>2018</td>\n",
              "      <td>18.86</td>\n",
              "      <td>18.58</td>\n",
              "      <td>18.52</td>\n",
              "      <td>18.47</td>\n",
              "      <td>18.51</td>\n",
              "      <td>18.76</td>\n",
              "      <td>18.78</td>\n",
              "      <td>18.640000</td>\n",
              "    </tr>\n",
              "  </tbody>\n",
              "</table>\n",
              "<p>996 rows × 15 columns</p>\n",
              "</div>"
            ],
            "text/plain": [
              "             OPEN     HIGH      LOW  ...  OPEN_lag_6  OPEN_lag_7  OPEN_mean\n",
              "DATE                                 ...                                   \n",
              "2014-06-23  19.05  19.0500  18.9500  ...         NaN         NaN        NaN\n",
              "2014-06-24  18.91  18.9500  18.8300  ...         NaN         NaN  19.050000\n",
              "2014-06-25  18.66  18.7200  18.5900  ...         NaN         NaN  18.980000\n",
              "2014-06-26  18.52  18.5901  18.4200  ...         NaN         NaN  18.873333\n",
              "2014-06-27  18.63  18.6300  18.5100  ...         NaN         NaN  18.785000\n",
              "...           ...      ...      ...  ...         ...         ...        ...\n",
              "2018-05-30  18.47  18.6780  18.4700  ...       19.31       19.14  18.941429\n",
              "2018-05-31  18.52  18.5200  18.3012  ...       19.26       19.31  18.845714\n",
              "2018-06-01  18.58  18.7600  18.5800  ...       18.83       19.26  18.732857\n",
              "2018-06-04  18.86  18.8900  18.7900  ...       18.78       18.83  18.635714\n",
              "2018-06-05  18.86  18.9100  18.8700  ...       18.76       18.78  18.640000\n",
              "\n",
              "[996 rows x 15 columns]"
            ]
          },
          "metadata": {
            "tags": []
          },
          "execution_count": 53
        }
      ]
    },
    {
      "cell_type": "code",
      "metadata": {
        "id": "rGXUnKdnDord",
        "colab_type": "code",
        "outputId": "59bbd122-baf9-4efd-9062-883da6f18975",
        "colab": {
          "base_uri": "https://localhost:8080/",
          "height": 72
        }
      },
      "source": [
        "#Moving Average Forecast is OPEN_mean\n",
        "print(mean_squared_error(np.array(stock_prices.iloc[1:, 0]) , np.array(stock_prices.iloc[1:,-1])))\n",
        "print(mean_absolute_error(np.array(stock_prices.iloc[1:, 0]) , np.array(stock_prices.iloc[1:,-1])))\n",
        "print(mean_absolute_percentage_error(np.array(stock_prices.iloc[1:, 0]) , np.array(stock_prices.iloc[1:,-1])))"
      ],
      "execution_count": 0,
      "outputs": [
        {
          "output_type": "stream",
          "text": [
            "tf.Tensor(0.119112104, shape=(), dtype=float32)\n",
            "tf.Tensor(0.22926937, shape=(), dtype=float32)\n",
            "tf.Tensor(1.4573811, shape=(), dtype=float32)\n"
          ],
          "name": "stdout"
        }
      ]
    },
    {
      "cell_type": "code",
      "metadata": {
        "id": "Di6yx-eyD9x_",
        "colab_type": "code",
        "colab": {}
      },
      "source": [
        ""
      ],
      "execution_count": 0,
      "outputs": []
    }
  ]
}